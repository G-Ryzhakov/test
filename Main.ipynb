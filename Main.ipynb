{
 "cells": [
  {
   "cell_type": "code",
   "execution_count": 4,
   "metadata": {},
   "outputs": [
    {
     "name": "stdout",
     "output_type": "stream",
     "text": [
      "[ 0  1  2  3  4  5  6  7  8  9 10 11 12 13 14 15 16 17 18 19 20 21 22 23 24 25 26 27 28 29 30 31 32 33 34 35 36 37\n",
      " 38 39 40 41]\n"
     ]
    }
   ],
   "source": [
    "import numpy as np\n",
    "print (np.arange(42))"
   ]
  },
  {
   "cell_type": "code",
   "execution_count": 10,
   "metadata": {},
   "outputs": [],
   "source": [
    "from glob import glob\n",
    "import os"
   ]
  },
  {
   "cell_type": "code",
   "execution_count": 15,
   "metadata": {},
   "outputs": [
    {
     "name": "stdout",
     "output_type": "stream",
     "text": [
      "['environment.yml', 'LICENSE', 'Main.ipynb', 'postBuild', 'README.md', 'runtime.txt']\n",
      "['/Users/g.ryzhakov/anaconda2', '/Users/g.ryzhakov/Applications', '/Users/g.ryzhakov/bin', '/Users/g.ryzhakov/Desktop', '/Users/g.ryzhakov/djvu', '/Users/g.ryzhakov/Documents', '/Users/g.ryzhakov/Downloads', '/Users/g.ryzhakov/Dropbox', '/Users/g.ryzhakov/files', '/Users/g.ryzhakov/Library', '/Users/g.ryzhakov/Movies', '/Users/g.ryzhakov/Music', '/Users/g.ryzhakov/Pictures', '/Users/g.ryzhakov/Projects', '/Users/g.ryzhakov/Public', '/Users/g.ryzhakov/qt-test.py', '/Users/g.ryzhakov/src', '/Users/g.ryzhakov/sshfs', '/Users/g.ryzhakov/tex', '/Users/g.ryzhakov/tmp']\n"
     ]
    }
   ],
   "source": [
    "print(glob('*'))\n",
    "print(glob(os.environ['HOME'] + '/*'))"
   ]
  },
  {
   "cell_type": "code",
   "execution_count": null,
   "metadata": {},
   "outputs": [],
   "source": []
  }
 ],
 "metadata": {
  "kernelspec": {
   "display_name": "Python 2",
   "language": "python",
   "name": "python2"
  },
  "language_info": {
   "codemirror_mode": {
    "name": "ipython",
    "version": 2
   },
   "file_extension": ".py",
   "mimetype": "text/x-python",
   "name": "python",
   "nbconvert_exporter": "python",
   "pygments_lexer": "ipython2",
   "version": "2.7.14"
  }
 },
 "nbformat": 4,
 "nbformat_minor": 2
}
